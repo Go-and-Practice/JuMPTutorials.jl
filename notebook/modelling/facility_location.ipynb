{
  "cells": [
    {
      "cell_type": "markdown",
      "source": [
        "# Facility Location"
      ],
      "metadata": {}
    },
    {
      "cell_type": "markdown",
      "source": [
        "**Originally Contributed by**: Mathieu Tanneau and Alexis Montoison"
      ],
      "metadata": {}
    },
    {
      "cell_type": "markdown",
      "source": [
        "Benchmark instances: http://resources.mpi-inf.mpg.de/departments/d1/projects/benchmarks/UflLib/"
      ],
      "metadata": {}
    },
    {
      "cell_type": "markdown",
      "source": [
        "## Uncapacitated facility location\n\nProblem description\n* $M=\\{1, \\dots, m\\}$ clients, $N=\\{ 1, \\dots, n\\}$ sites where a facility can be built."
      ],
      "metadata": {}
    },
    {
      "outputs": [],
      "cell_type": "code",
      "source": [
        "n = 2  # number of facility locations\nm = 5  # number of clients"
      ],
      "metadata": {},
      "execution_count": null
    },
    {
      "cell_type": "markdown",
      "source": [
        "* $f_j$: fixed cost of building a facility at site $j$\n* $c_{i, j}$: cost for serving customer $i$ from facility $j$"
      ],
      "metadata": {}
    },
    {
      "outputs": [],
      "cell_type": "code",
      "source": [
        "# Draw costs\nRandom.seed!(0)\nf = rand(1000:10000, n);\nc = rand(0:1000, m, n);"
      ],
      "metadata": {},
      "execution_count": null
    },
    {
      "cell_type": "markdown",
      "source": [
        "### MILP formulation\n\n$$\n\\begin{array}{cl}\n\\min_{x, y} \\ \\ \\ &\n\\sum_{i, j} c_{i, j} x_{i, j} + \n\\sum_{j} f_{j} y_{j}\\\\\ns.t. &\n\\sum_{j} x_{i, j} = 1, \\ \\ \\ \\forall i \\in M\\\\\n& x_{i, j} \\leq y_{j}, \\ \\ \\ \\forall i \\in M, j \\in N\\\\\n& x_{i, j}, y_{j} \\in \\{0, 1\\}, \\ \\ \\ \\forall i \\in M, j \\in N\n\\end{array}\n$$"
      ],
      "metadata": {}
    },
    {
      "outputs": [],
      "cell_type": "code",
      "source": [
        "using JuMP\nusing GLPK\n\n# Create a model\nufl = Model();"
      ],
      "metadata": {},
      "execution_count": null
    },
    {
      "outputs": [],
      "cell_type": "code",
      "source": [
        "# Create our variables\n@variable(ufl, y[1:m], Bin);\n@variable(ufl, x[1:m, 1:n], Bin);"
      ],
      "metadata": {},
      "execution_count": null
    },
    {
      "outputs": [],
      "cell_type": "code",
      "source": [
        "# Add constraints\n\n# Each client is serve exactly once\n@constraint(\n    ufl,\n    [i in 1:m],\n    sum(x[i, j] for j in 1:n) == 1\n);\n\n# Fixed cost of opening facilities\n@constraint(\n    ufl,\n    [i in 1:m, j in 1:n],\n    x[i, j] <= y[j]\n);"
      ],
      "metadata": {},
      "execution_count": null
    },
    {
      "outputs": [],
      "cell_type": "code",
      "source": [
        "# Set objective\nF = sum([f[j]*y[j] for j in 1:n]);\nC = sum([c[i, j]*x[i, j] for i in 1:m for j in 1:n]);\n                \n@objective(ufl, Min, F + C);"
      ],
      "metadata": {},
      "execution_count": null
    },
    {
      "outputs": [],
      "cell_type": "code",
      "source": [
        "# Set optimizer\nset_optimizer(ufl, with_optimizer(GLPK.Optimizer))"
      ],
      "metadata": {},
      "execution_count": null
    },
    {
      "outputs": [],
      "cell_type": "code",
      "source": [
        "# Solve the uncapacitated facility location problem with GLPK\noptimize!(ufl)\nprintln(\"Optimal value: \", objective_value(ufl))"
      ],
      "metadata": {},
      "execution_count": null
    },
    {
      "outputs": [],
      "cell_type": "code",
      "source": [
        "# Get y and x solutions\nxsol = value.(x);\nprintln(\"Optimal solution x: \", value.(x))\nysol = value.(y);\nprintln(\"Optimal solution y: \", value.(y))"
      ],
      "metadata": {},
      "execution_count": null
    },
    {
      "outputs": [],
      "cell_type": "code",
      "source": [
        "# relax all binary variables\nfor var in x\n    is_binary(var) && unset_binary(var)\n    set_lower_bound(var, 0.0)\n    set_upper_bound(var, 1.0)\nend\n\nfor var in y\n    is_binary(var) && unset_binary(var)\n    set_lower_bound(var, 0.0)\n    set_upper_bound(var, 1.0)\nend"
      ],
      "metadata": {},
      "execution_count": null
    },
    {
      "outputs": [],
      "cell_type": "code",
      "source": [
        "# Solve the LP relaxation\noptimize!(ufl)\nlp_val = objective_value(ufl)\nprintln(\"Optimal value of relaxed ufl: \", lp_val)"
      ],
      "metadata": {},
      "execution_count": null
    },
    {
      "outputs": [],
      "cell_type": "code",
      "source": [
        "# Get y and x solutions\nlp_ysol = value.(y);\nprintln(\"Optimal solution y: \", value.(y))\nlp_xsol = value.(x);\nprintln(\"Optimal solution x: \", value.(x))"
      ],
      "metadata": {},
      "execution_count": null
    },
    {
      "outputs": [],
      "cell_type": "code",
      "source": [
        "# Set all variables to be binary\nfor var in x\n    set_binary(var)\nend\n\nfor var in y\n    set_binary(var)\nend\n\noptimize!(ufl)\nmip_val = objective_value(ufl)\nprintln(\"Optimal value of integer ufl: \", mip_val)"
      ],
      "metadata": {},
      "execution_count": null
    },
    {
      "outputs": [],
      "cell_type": "code",
      "source": [
        "# Integrality gap\n(mip_val - lp_val) / mip_val"
      ],
      "metadata": {},
      "execution_count": null
    },
    {
      "cell_type": "markdown",
      "source": [
        "## Capacitated Facility location"
      ],
      "metadata": {}
    },
    {
      "cell_type": "markdown",
      "source": [
        "* Each client $i$ has a demand $a_{i}$, and each facility has a capacity $q_{j}$"
      ],
      "metadata": {}
    },
    {
      "cell_type": "markdown",
      "source": [
        "$$\n\\begin{array}{cl}\n\\min_{x, y} \\ \\ \\ &\n\\sum_{i, j} c_{i, j} x_{i, j} + \n\\sum_{j} f_{j} y_{j}\\\\\ns.t. &\n\\sum_{j} x_{i, j} = 1, \\ \\ \\ \\forall i \\in M\\\\\n& \\sum_{i} a_{i} x_{i, j} \\leq q_{j} y_{j}, \\ \\ \\ \\forall j \\in N\\\\\n& x_{i, j}, y_{j} \\in \\{0, 1\\}, \\ \\ \\ \\forall i \\in M, j \\in N\n\\end{array}\n$$"
      ],
      "metadata": {}
    },
    {
      "outputs": [],
      "cell_type": "code",
      "source": [
        "n = 10  # number of facility locations\nm = 30  # number of clients\n\n# Draw costs\nRandom.seed!(0)\nf = rand(1000:10000, n);\nc = rand(0:1000, m, n);\n\n# Clients' demands\na = rand(1:10, m);\n\n# Capacities\nq = rand(30:40, n);"
      ],
      "metadata": {},
      "execution_count": null
    },
    {
      "outputs": [],
      "cell_type": "code",
      "source": [
        "# Instantiate an empty model\ncfl = Model();"
      ],
      "metadata": {},
      "execution_count": null
    },
    {
      "outputs": [],
      "cell_type": "code",
      "source": [
        "# Create variables\ny = @variable(cfl, y[1:n], Bin);\nx = @variable(cfl, x[1:m, 1:n], Bin);"
      ],
      "metadata": {},
      "execution_count": null
    },
    {
      "outputs": [],
      "cell_type": "code",
      "source": [
        "# set objective\nC = sum([c[i, j]*x[i, j] for i in 1:m for j in 1:n])  # demand serving cost\nF = sum([f[j]*y[j] for j in 1:n])  # fixed cost\n\n@objective(cfl, Min, C + F);"
      ],
      "metadata": {},
      "execution_count": null
    },
    {
      "outputs": [],
      "cell_type": "code",
      "source": [
        "# Add constraints\n\n# Each client is serve exactly once\nctr_ = @constraint(\n    cfl,                             # add constraints to model\n    [i in 1:m],                      # there are `m` constraints, indexed by `i`\n    sum(x[i, j] for j in 1:n) == 1   # the actual constraint\n);\n\n# Capacity constraints\nctr_capacity = @constraint(\n    cfl,\n    [j in 1:n],\n    sum(a[i] * x[i, j] for i in 1:m) <= q[j]*y[j]\n);"
      ],
      "metadata": {},
      "execution_count": null
    },
    {
      "outputs": [],
      "cell_type": "code",
      "source": [
        "# Set optimizer\nset_optimizer(\n    cfl,\n    with_optimizer(\n        GLPK.Optimizer,\n        msg_lev=3,    # verbosity level\n        tm_lim=10000  # time limit, in ms\n    )\n)"
      ],
      "metadata": {},
      "execution_count": null
    },
    {
      "outputs": [],
      "cell_type": "code",
      "source": [
        "# Best solution found so far\nprintln(\"Optimal value: \", objective_value(cfl))"
      ],
      "metadata": {},
      "execution_count": null
    },
    {
      "outputs": [],
      "cell_type": "code",
      "source": [
        "# Solve the capacitated facility location problem with Cbc\nset_optimizer(cfl, with_optimizer(Cbc.Optimizer))\noptimize!(cfl)"
      ],
      "metadata": {},
      "execution_count": null
    }
  ],
  "nbformat_minor": 2,
  "metadata": {
    "language_info": {
      "file_extension": ".jl",
      "mimetype": "application/julia",
      "name": "julia",
      "version": "1.3.0"
    },
    "kernelspec": {
      "name": "julia-1.3",
      "display_name": "Julia 1.3.0",
      "language": "julia"
    }
  },
  "nbformat": 4
}
