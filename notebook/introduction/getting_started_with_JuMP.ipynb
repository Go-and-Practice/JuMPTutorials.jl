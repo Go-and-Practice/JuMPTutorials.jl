{
  "cells": [
    {
      "cell_type": "markdown",
      "source": [
        "# Getting Started with JuMP"
      ],
      "metadata": {}
    },
    {
      "cell_type": "markdown",
      "source": [
        "**Originally Contributed by**: Arpit Bhatia"
      ],
      "metadata": {}
    },
    {
      "cell_type": "markdown",
      "source": [
        "This tutorial is aimed at providing a quick introduction to writing JuMP code. It assumes familiar with basic optimization and\nthe notion of an [AML](https://en.wikipedia.org/wiki/Algebraic_modeling_language)."
      ],
      "metadata": {}
    },
    {
      "cell_type": "markdown",
      "source": [
        "## What is JuMP?\nJuMP (\"Julia for Mathematical Programming\") is an open-source modeling language that is embedded in Julia. It allows users to\nusers formulate various classes of optimization problems (linear, mixed-integer, quadratic, conic quadratic, semidefinite,\nand nonlinear) with easy-to-read code. These problems can then be solved using state-of-the-art open-source and commercial solvers.\nJuMP also makes advanced optimization techniques easily accessible from a high-level language."
      ],
      "metadata": {}
    },
    {
      "cell_type": "markdown",
      "source": [
        "## Installing JuMP\nJuMP is a package for Julia. From Julia, JuMP is installed by using the built-in package manager."
      ],
      "metadata": {}
    },
    {
      "outputs": [],
      "cell_type": "code",
      "source": [
        "import Pkg\nPkg.add(\"JuMP\")"
      ],
      "metadata": {},
      "execution_count": null
    },
    {
      "cell_type": "markdown",
      "source": [
        "## A Complete Example\nLet's try to solve the following linear programming problem by using JuMP and GLPK (a linear and mixed integer programming\nsolver). We will first look at the complete code to solve the problem and then go through it step by step."
      ],
      "metadata": {}
    },
    {
      "cell_type": "markdown",
      "source": [
        "$$\n\\begin{align*}\n& \\min & 12x + 20y \\\\\n& \\;\\;\\text{s.t.} & 6x + 8y \\geq 100 \\\\\n& & 7x + 12y \\geq 120 \\\\\n& & x \\geq 0 \\\\\n& & y \\geq 0 \\\\\n\\end{align*}\n$$"
      ],
      "metadata": {}
    },
    {
      "outputs": [],
      "cell_type": "code",
      "source": [
        "using JuMP\nusing GLPK\n\nmodel = Model(GLPK.Optimizer)\n@variable(model, x >= 0)\n@variable(model, y >= 0)\n@constraint(model, 6x + 8y >= 100)\n@constraint(model, 7x + 12y >= 120)\n@objective(model, Min, 12x + 20y)\n\noptimize!(model)\n\n@show value(x);\n@show value(y);\n@show objective_value(model);"
      ],
      "metadata": {},
      "execution_count": null
    },
    {
      "cell_type": "markdown",
      "source": [
        "## Step by Step JuMP Code\nOnce JuMP is installed, to use JuMP in your programs, we just need to write-"
      ],
      "metadata": {}
    },
    {
      "outputs": [],
      "cell_type": "code",
      "source": [
        "using JuMP"
      ],
      "metadata": {},
      "execution_count": null
    },
    {
      "cell_type": "markdown",
      "source": [
        "We also need to include a Julia package which provides an appropriate solver. We want to use GLPK.Optimizer here which is\nprovided by the GLPK.jl package."
      ],
      "metadata": {}
    },
    {
      "outputs": [],
      "cell_type": "code",
      "source": [
        "using GLPK"
      ],
      "metadata": {},
      "execution_count": null
    },
    {
      "cell_type": "markdown",
      "source": [
        "A model object is a container for variables, constraints, solver options, etc. Models are created with the Model() function.\nThe model can be created with an optimizer attached with default arguments by calling the constructor with the optimizer type, as follows:"
      ],
      "metadata": {}
    },
    {
      "outputs": [],
      "cell_type": "code",
      "source": [
        "model = Model(GLPK.Optimizer);"
      ],
      "metadata": {},
      "execution_count": null
    },
    {
      "cell_type": "markdown",
      "source": [
        "A variable is modelled using `@variable(name of the model object, variable name and bound, variable type)`. The bound can be a\nlower bound, an upper bound or both. If no variable type is defined, then it is treated as real."
      ],
      "metadata": {}
    },
    {
      "outputs": [],
      "cell_type": "code",
      "source": [
        "@variable(model, x >= 0)\n@variable(model, y >= 0);"
      ],
      "metadata": {},
      "execution_count": null
    },
    {
      "cell_type": "markdown",
      "source": [
        "A constraint is modelled using `@constraint(name of the model object, constraint)`."
      ],
      "metadata": {}
    },
    {
      "outputs": [],
      "cell_type": "code",
      "source": [
        "@constraint(model, 6x + 8y >= 100)\n@constraint(model, 7x + 12y >= 120);"
      ],
      "metadata": {},
      "execution_count": null
    },
    {
      "cell_type": "markdown",
      "source": [
        "The objective is set in a similar manner using `@objective(name of the model object, Min/Max, function to be optimized)`"
      ],
      "metadata": {}
    },
    {
      "outputs": [],
      "cell_type": "code",
      "source": [
        "@objective(model, Min, 12x + 20y);"
      ],
      "metadata": {},
      "execution_count": null
    },
    {
      "cell_type": "markdown",
      "source": [
        "To solve the optimization problem, we call the optimize function."
      ],
      "metadata": {}
    },
    {
      "outputs": [],
      "cell_type": "code",
      "source": [
        "optimize!(model)"
      ],
      "metadata": {},
      "execution_count": null
    },
    {
      "cell_type": "markdown",
      "source": [
        "Let's now check the value of objective and variables."
      ],
      "metadata": {}
    },
    {
      "outputs": [],
      "cell_type": "code",
      "source": [
        "@show value(x);\n@show value(y);\n@show objective_value(model);"
      ],
      "metadata": {},
      "execution_count": null
    }
  ],
  "nbformat_minor": 2,
  "metadata": {
    "language_info": {
      "file_extension": ".jl",
      "mimetype": "application/julia",
      "name": "julia",
      "version": "1.0.5"
    },
    "kernelspec": {
      "name": "julia-1.0",
      "display_name": "Julia 1.0.5",
      "language": "julia"
    }
  },
  "nbformat": 4
}
